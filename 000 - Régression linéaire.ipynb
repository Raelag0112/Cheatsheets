{
 "cells": [
  {
   "cell_type": "code",
   "execution_count": 1,
   "metadata": {},
   "outputs": [],
   "source": [
    "import numpy as np\n",
    "from sklearn.datasets import make_regression\n",
    "import matplotlib.pyplot as plt"
   ]
  },
  {
   "cell_type": "markdown",
   "metadata": {},
   "source": [
    "# 1. Générer les données #"
   ]
  },
  {
   "cell_type": "code",
   "execution_count": 19,
   "metadata": {},
   "outputs": [
    {
     "data": {
      "text/plain": [
       "<matplotlib.collections.PathCollection at 0x21a91a27348>"
      ]
     },
     "execution_count": 19,
     "metadata": {},
     "output_type": "execute_result"
    },
    {
     "data": {
      "image/png": "[encoded data removed]",
      "text/plain": [
       "<Figure size 432x288 with 1 Axes>"
      ]
     },
     "metadata": {
      "needs_background": "light"
     },
     "output_type": "display_data"
    }
   ],
   "source": [
    "x, y = make_regression(n_samples = 100, n_features = 1, noise = 10)\n",
    "plt.scatter(x, y)"
   ]
  },
  {
   "cell_type": "code",
   "execution_count": 20,
   "metadata": {},
   "outputs": [
    {
     "name": "stdout",
     "output_type": "stream",
     "text": [
      "(100, 1)\n",
      "(100, 1)\n"
     ]
    }
   ],
   "source": [
    "print(x.shape)\n",
    "y = y.reshape(y.shape[0], 1)\n",
    "print(y.shape)"
   ]
  },
  {
   "cell_type": "code",
   "execution_count": 21,
   "metadata": {},
   "outputs": [
    {
     "data": {
      "text/plain": [
       "array([[-1.10006372e+00,  1.00000000e+00],\n",
       "       [-7.96051081e-01,  1.00000000e+00],\n",
       "       [-6.71118584e-01,  1.00000000e+00],\n",
       "       [ 8.01879294e-01,  1.00000000e+00],\n",
       "       [ 7.70193944e-01,  1.00000000e+00],\n",
       "       [ 4.52816992e-01,  1.00000000e+00],\n",
       "       [-8.85947848e-01,  1.00000000e+00],\n",
       "       [-4.68968162e-01,  1.00000000e+00],\n",
       "       [ 5.07175076e-01,  1.00000000e+00],\n",
       "       [-1.49253871e+00,  1.00000000e+00],\n",
       "       [-7.14898007e-02,  1.00000000e+00],\n",
       "       [-9.62469911e-02,  1.00000000e+00],\n",
       "       [-1.05404583e+00,  1.00000000e+00],\n",
       "       [ 3.88677772e-02,  1.00000000e+00],\n",
       "       [ 2.62258028e-01,  1.00000000e+00],\n",
       "       [ 8.48151222e-01,  1.00000000e+00],\n",
       "       [ 6.20980046e-01,  1.00000000e+00],\n",
       "       [ 1.93641984e+00,  1.00000000e+00],\n",
       "       [-5.08098128e-01,  1.00000000e+00],\n",
       "       [ 1.44854367e+00,  1.00000000e+00],\n",
       "       [-1.36806418e+00,  1.00000000e+00],\n",
       "       [ 3.98832736e-01,  1.00000000e+00],\n",
       "       [ 2.49031831e+00,  1.00000000e+00],\n",
       "       [-1.19363778e+00,  1.00000000e+00],\n",
       "       [-1.36721691e+00,  1.00000000e+00],\n",
       "       [-1.65395976e+00,  1.00000000e+00],\n",
       "       [-7.35650436e-01,  1.00000000e+00],\n",
       "       [ 5.34053444e-02,  1.00000000e+00],\n",
       "       [ 1.28335705e+00,  1.00000000e+00],\n",
       "       [-1.18318287e+00,  1.00000000e+00],\n",
       "       [-1.25084391e-01,  1.00000000e+00],\n",
       "       [-1.37947210e-01,  1.00000000e+00],\n",
       "       [ 1.87150364e-01,  1.00000000e+00],\n",
       "       [ 2.29604136e+00,  1.00000000e+00],\n",
       "       [-9.00620863e-01,  1.00000000e+00],\n",
       "       [ 9.07436103e-01,  1.00000000e+00],\n",
       "       [-4.91364082e-01,  1.00000000e+00],\n",
       "       [-1.50322642e-01,  1.00000000e+00],\n",
       "       [-7.82668524e-01,  1.00000000e+00],\n",
       "       [-1.17307427e-01,  1.00000000e+00],\n",
       "       [ 1.46199647e-01,  1.00000000e+00],\n",
       "       [-6.31643000e-01,  1.00000000e+00],\n",
       "       [-1.06728370e+00,  1.00000000e+00],\n",
       "       [ 4.28952601e-01,  1.00000000e+00],\n",
       "       [-1.13098347e+00,  1.00000000e+00],\n",
       "       [ 6.66072931e-01,  1.00000000e+00],\n",
       "       [ 3.05658235e-01,  1.00000000e+00],\n",
       "       [ 1.23955491e+00,  1.00000000e+00],\n",
       "       [-1.57659515e+00,  1.00000000e+00],\n",
       "       [ 4.12266971e-02,  1.00000000e+00],\n",
       "       [-5.91796349e-02,  1.00000000e+00],\n",
       "       [-5.61371666e-01,  1.00000000e+00],\n",
       "       [ 1.80279080e+00,  1.00000000e+00],\n",
       "       [ 1.53265427e-01,  1.00000000e+00],\n",
       "       [ 4.67489945e-01,  1.00000000e+00],\n",
       "       [ 1.23880848e-03,  1.00000000e+00],\n",
       "       [-1.87719350e+00,  1.00000000e+00],\n",
       "       [-6.80198528e-01,  1.00000000e+00],\n",
       "       [-1.55334528e+00,  1.00000000e+00],\n",
       "       [ 2.20501847e+00,  1.00000000e+00],\n",
       "       [-8.24339928e-01,  1.00000000e+00],\n",
       "       [-1.69835761e-01,  1.00000000e+00],\n",
       "       [-2.07475899e-01,  1.00000000e+00],\n",
       "       [ 1.45052238e+00,  1.00000000e+00],\n",
       "       [-1.64409761e+00,  1.00000000e+00],\n",
       "       [-5.43931975e-01,  1.00000000e+00],\n",
       "       [ 1.37476929e+00,  1.00000000e+00],\n",
       "       [-3.04800514e-01,  1.00000000e+00],\n",
       "       [ 5.40035007e-01,  1.00000000e+00],\n",
       "       [-1.06444307e-01,  1.00000000e+00],\n",
       "       [ 8.04231487e-01,  1.00000000e+00],\n",
       "       [-3.87489019e-01,  1.00000000e+00],\n",
       "       [-1.61661526e+00,  1.00000000e+00],\n",
       "       [-1.15893135e+00,  1.00000000e+00],\n",
       "       [ 4.90343072e-01,  1.00000000e+00],\n",
       "       [-1.57087463e-01,  1.00000000e+00],\n",
       "       [-7.91515236e-01,  1.00000000e+00],\n",
       "       [-2.07522472e-01,  1.00000000e+00],\n",
       "       [-3.52464412e-01,  1.00000000e+00],\n",
       "       [ 7.07498321e-02,  1.00000000e+00],\n",
       "       [-6.61206815e-01,  1.00000000e+00],\n",
       "       [ 1.09060721e+00,  1.00000000e+00],\n",
       "       [ 1.57984058e+00,  1.00000000e+00],\n",
       "       [-5.84961105e-01,  1.00000000e+00],\n",
       "       [ 9.89887112e-01,  1.00000000e+00],\n",
       "       [-1.29245057e+00,  1.00000000e+00],\n",
       "       [-9.85634282e-01,  1.00000000e+00],\n",
       "       [ 7.68698020e-02,  1.00000000e+00],\n",
       "       [ 7.95686299e-01,  1.00000000e+00],\n",
       "       [-1.04541337e+00,  1.00000000e+00],\n",
       "       [ 3.91049108e-02,  1.00000000e+00],\n",
       "       [ 7.78964945e-01,  1.00000000e+00],\n",
       "       [ 1.39565202e-01,  1.00000000e+00],\n",
       "       [ 5.87461332e-01,  1.00000000e+00],\n",
       "       [-3.93028758e-01,  1.00000000e+00],\n",
       "       [-2.10871306e+00,  1.00000000e+00],\n",
       "       [-1.70899676e+00,  1.00000000e+00],\n",
       "       [ 5.12823292e-01,  1.00000000e+00],\n",
       "       [ 2.70894114e-01,  1.00000000e+00],\n",
       "       [ 4.90057831e-01,  1.00000000e+00]])"
      ]
     },
     "execution_count": 21,
     "metadata": {},
     "output_type": "execute_result"
    }
   ],
   "source": [
    "# matrice X\n",
    "X = np.hstack((x, np.ones(x.shape)))\n",
    "X"
   ]
  },
  {
   "cell_type": "code",
   "execution_count": 22,
   "metadata": {},
   "outputs": [
    {
     "data": {
      "text/plain": [
       "array([[-1.41343427],\n",
       "       [ 0.03071636]])"
      ]
     },
     "execution_count": 22,
     "metadata": {},
     "output_type": "execute_result"
    }
   ],
   "source": [
    "theta = np.random.randn(2, 1)\n",
    "theta"
   ]
  },
  {
   "cell_type": "markdown",
   "metadata": {},
   "source": [
    "# 2. Définition du modèle #"
   ]
  },
  {
   "cell_type": "code",
   "execution_count": 23,
   "metadata": {},
   "outputs": [],
   "source": [
    "def model(X,theta):\n",
    "    return X.dot(theta)"
   ]
  },
  {
   "cell_type": "code",
   "execution_count": 24,
   "metadata": {},
   "outputs": [
    {
     "data": {
      "text/plain": [
       "[<matplotlib.lines.Line2D at 0x21a91a65cc8>]"
      ]
     },
     "execution_count": 24,
     "metadata": {},
     "output_type": "execute_result"
    },
    {
     "data": {
      "image/png": "[encoded data removed]",
      "text/plain": [
       "<Figure size 432x288 with 1 Axes>"
      ]
     },
     "metadata": {
      "needs_background": "light"
     },
     "output_type": "display_data"
    }
   ],
   "source": [
    "plt.scatter(x, y)\n",
    "plt.plot(x, model(X, theta), c = 'r')"
   ]
  },
  {
   "cell_type": "markdown",
   "metadata": {},
   "source": [
    "# 3. Fonction coût #"
   ]
  },
  {
   "cell_type": "code",
   "execution_count": 25,
   "metadata": {},
   "outputs": [],
   "source": [
    "def cost_function(X, y, theta):\n",
    "    m = len(y)\n",
    "    return 1/(2*m) * np.sum((model(X, theta) - y)**2)"
   ]
  },
  {
   "cell_type": "code",
   "execution_count": 26,
   "metadata": {},
   "outputs": [
    {
     "data": {
      "text/plain": [
       "3324.0816378108693"
      ]
     },
     "execution_count": 26,
     "metadata": {},
     "output_type": "execute_result"
    }
   ],
   "source": [
    "cost_function(X, y, theta)"
   ]
  },
  {
   "cell_type": "markdown",
   "metadata": {},
   "source": [
    "# 4. Descente de gradient #"
   ]
  },
  {
   "cell_type": "code",
   "execution_count": 27,
   "metadata": {},
   "outputs": [],
   "source": [
    "def grad(X, y, theta):\n",
    "    m = len(y)\n",
    "    return 1/m * X.T.dot(model(X, theta) - y)"
   ]
  },
  {
   "cell_type": "code",
   "execution_count": 28,
   "metadata": {},
   "outputs": [],
   "source": [
    "def gradient_descent(X, y, theta, learning_rate, n_iterations):\n",
    "    cost_history = np.zeros(n_iterations)\n",
    "    for i in range(0, n_iterations):\n",
    "        theta = theta - learning_rate * grad(X, y , theta)\n",
    "        cost_history[i] = cost_function(X, y, theta)\n",
    "    return theta, cost_history"
   ]
  },
  {
   "cell_type": "markdown",
   "metadata": {},
   "source": [
    "# 5. Entraînement #"
   ]
  },
  {
   "cell_type": "code",
   "execution_count": 29,
   "metadata": {},
   "outputs": [],
   "source": [
    "theta_final, cost_history = gradient_descent(X, y, theta, learning_rate = 0.01, n_iterations = 1000)"
   ]
  },
  {
   "cell_type": "code",
   "execution_count": 30,
   "metadata": {},
   "outputs": [
    {
     "data": {
      "text/plain": [
       "array([[80.66832548],\n",
       "       [-1.02927838]])"
      ]
     },
     "execution_count": 30,
     "metadata": {},
     "output_type": "execute_result"
    }
   ],
   "source": [
    "theta_final"
   ]
  },
  {
   "cell_type": "code",
   "execution_count": 35,
   "metadata": {},
   "outputs": [
    {
     "data": {
      "text/plain": [
       "<matplotlib.collections.PathCollection at 0x21a91bdd308>"
      ]
     },
     "execution_count": 35,
     "metadata": {},
     "output_type": "execute_result"
    },
    {
     "data": {
      "image/png": "[encoded data removed]",
      "text/plain": [
       "<Figure size 432x288 with 1 Axes>"
      ]
     },
     "metadata": {
      "needs_background": "light"
     },
     "output_type": "display_data"
    }
   ],
   "source": [
    "predictions = model (X, theta_final)\n",
    "plt.scatter(x, y)\n",
    "plt.scatter(x, predictions, c = 'r')"
   ]
  },
  {
   "cell_type": "code",
   "execution_count": 32,
   "metadata": {},
   "outputs": [
    {
     "data": {
      "text/plain": [
       "[<matplotlib.lines.Line2D at 0x21a91b66f48>]"
      ]
     },
     "execution_count": 32,
     "metadata": {},
     "output_type": "execute_result"
    },
    {
     "data": {
      "image/png": "[encoded data removed]",
      "text/plain": [
       "<Figure size 432x288 with 1 Axes>"
      ]
     },
     "metadata": {
      "needs_background": "light"
     },
     "output_type": "display_data"
    }
   ],
   "source": [
    "plt.plot(range(1000), cost_history)"
   ]
  },
  {
   "cell_type": "code",
   "execution_count": 33,
   "metadata": {},
   "outputs": [],
   "source": [
    "def coef_determination(y, pred):\n",
    "    u = ((y - pred)**2).sum()\n",
    "    v = ((y - y.mean())**2).sum()\n",
    "    return 1 - u/v"
   ]
  },
  {
   "cell_type": "code",
   "execution_count": 34,
   "metadata": {},
   "outputs": [
    {
     "data": {
      "text/plain": [
       "0.9834720717049706"
      ]
     },
     "execution_count": 34,
     "metadata": {},
     "output_type": "execute_result"
    }
   ],
   "source": [
    "coef_determination(y, predictions)"
   ]
  },
  {
   "cell_type": "code",
   "execution_count": null,
   "metadata": {},
   "outputs": [],
   "source": []
  }
 ],
 "metadata": {
  "kernelspec": {
   "display_name": "Python 3",
   "language": "python",
   "name": "python3"
  },
  "language_info": {
   "codemirror_mode": {
    "name": "ipython",
    "version": 3
   },
   "file_extension": ".py",
   "mimetype": "text/x-python",
   "name": "python",
   "nbconvert_exporter": "python",
   "pygments_lexer": "ipython3",
   "version": "3.7.4"
  }
 },
 "nbformat": 4,
 "nbformat_minor": 4
}
