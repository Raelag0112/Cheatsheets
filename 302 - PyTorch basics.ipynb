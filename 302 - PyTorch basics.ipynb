{
 "cells": [
  {
   "cell_type": "markdown",
   "id": "d7f3f15a-3be3-41ce-a393-a383ec0fa17b",
   "metadata": {},
   "source": [
    "### Outline"
   ]
  },
  {
   "cell_type": "markdown",
   "id": "892c61ca-d1de-408c-9b3a-b66a4a625bb7",
   "metadata": {},
   "source": [
    "* Datasets\n",
    "* Models\n",
    "* Losses\n",
    "* Optimizers"
   ]
  },
  {
   "cell_type": "markdown",
   "id": "8fa37f6e-a1a7-4ba4-af15-d76765014df6",
   "metadata": {},
   "source": [
    "### Imports"
   ]
  },
  {
   "cell_type": "code",
   "execution_count": 20,
   "id": "bf61f782-30b2-4864-bf8d-746cbac5c583",
   "metadata": {},
   "outputs": [],
   "source": [
    "import numpy as np\n",
    "import torch\n",
    "import torch.nn as nn\n",
    "import matplotlib.pyplot as plt\n",
    "from matplotlib import colors\n",
    "plt.rcParams.update({'font.size': 16})"
   ]
  },
  {
   "cell_type": "markdown",
   "id": "40a34a5e-3148-42ee-8ae4-875029007ce5",
   "metadata": {},
   "source": [
    "# Datasets"
   ]
  },
  {
   "cell_type": "markdown",
   "id": "41fa1816-88fc-4a58-bb03-2f772909ef25",
   "metadata": {},
   "source": [
    "### A raw dataset"
   ]
  },
  {
   "cell_type": "markdown",
   "id": "0d322045-4073-4e53-ae1d-b5c604b4c51f",
   "metadata": {},
   "source": [
    "The data are obtained from the model \n",
    "$$\n",
    "x \\mapsto y:=Ax + b\n",
    "$$\n",
    "with $x\\in\\mathbb R^{input\\_dim}$ and $y\\in\\mathbb R^{output\\_dim}$."
   ]
  },
  {
   "cell_type": "code",
   "execution_count": 64,
   "id": "b7dc8e22-3bab-465b-afd4-b9dc2ac25bfb",
   "metadata": {},
   "outputs": [],
   "source": [
    "input_dim = 1\n",
    "output_dim = 1\n",
    "\n",
    "A = 2 * np.random.rand(output_dim, input_dim) - 1\n",
    "b = 2 * np.random.rand(output_dim) - 1\n",
    "\n",
    "true_model = lambda x: A @ x + b"
   ]
  },
  {
   "cell_type": "markdown",
   "id": "f7bba456-6268-46b9-b819-ee24104b4ab8",
   "metadata": {},
   "source": [
    "We get a training set by randomly sampling and noisy observations\n",
    "\\begin{align*}\n",
    "&x_i \\sim U([-1, 1])\\\\\n",
    "&y_i = A x_i + b + \\nu_i\n",
    "\\end{align*}"
   ]
  },
  {
   "cell_type": "code",
   "execution_count": 65,
   "id": "44166a5e-8267-4869-9f9a-0aa6af60340f",
   "metadata": {},
   "outputs": [],
   "source": [
    "n_train = 1000\n",
    "noise_level = 0.04\n",
    "\n",
    "# Generate a random set of n_train samples\n",
    "X_train = np.random.rand(n_train, input_dim)\n",
    "y_train = np.array([true_model(x) for x in X_train])\n",
    "\n",
    "# Add some noise\n",
    "y_train += noise_level * np.random.standard_normal(size=y_train.shape)"
   ]
  },
  {
   "cell_type": "code",
   "execution_count": 66,
   "id": "c8855b50-09f7-4ff6-adaa-4d22ce6fbc67",
   "metadata": {},
   "outputs": [
    {
     "data": {
      "image/png": "[encoded data removed]",
      "text/plain": [
       "<Figure size 432x288 with 1 Axes>"
      ]
     },
     "metadata": {
      "needs_background": "light"
     },
     "output_type": "display_data"
    }
   ],
   "source": [
    "if input_dim == output_dim == 1:\n",
    "    fig = plt.figure()\n",
    "    fig.clf()\n",
    "    ax = fig.gca()\n",
    "    ax.plot(X_train, y_train, '.')\n",
    "    ax.grid(True)\n",
    "    ax.set_xlabel('X_train')\n",
    "    ax.set_ylabel('y_train')"
   ]
  },
  {
   "cell_type": "markdown",
   "id": "57e98513-76e9-46fb-9b8e-51c4b1442a68",
   "metadata": {},
   "source": [
    "### Pytorch Dataset"
   ]
  },
  {
   "cell_type": "code",
   "execution_count": 67,
   "id": "edae8d1b-30d3-4a1f-981d-a8a318f6b597",
   "metadata": {},
   "outputs": [],
   "source": [
    "class VectorialDataset(torch.utils.data.Dataset):\n",
    "    def __init__(self, input_data, output_data):\n",
    "        super(VectorialDataset, self).__init__()\n",
    "        self.input_data = torch.tensor(input_data.astype('f'))\n",
    "        self.output_data = torch.tensor(output_data.astype('f'))\n",
    "        \n",
    "    def __len__(self):\n",
    "        return self.input_data.shape[0]\n",
    "    \n",
    "    def __getitem__(self, idx):\n",
    "        if torch.is_tensor(idx):\n",
    "            idx = idx.tolist()\n",
    "        sample = (self.input_data[idx, :],\n",
    "                  self.output_data[idx, :])\n",
    "        return sample"
   ]
  },
  {
   "cell_type": "code",
   "execution_count": 68,
   "id": "453d37d4-6eab-4067-a9a9-13b8f87994f2",
   "metadata": {},
   "outputs": [],
   "source": [
    "training_set = VectorialDataset(input_data=X_train, output_data=y_train)"
   ]
  },
  {
   "cell_type": "code",
   "execution_count": 69,
   "id": "a8547d3d-3640-47e2-9084-28bc596d2a50",
   "metadata": {},
   "outputs": [
    {
     "data": {
      "text/plain": [
       "1000"
      ]
     },
     "execution_count": 69,
     "metadata": {},
     "output_type": "execute_result"
    }
   ],
   "source": [
    "len(training_set)"
   ]
  },
  {
   "cell_type": "code",
   "execution_count": 70,
   "id": "e4efa162-f942-4f31-8d7b-f98a32ecb9d8",
   "metadata": {},
   "outputs": [
    {
     "data": {
      "text/plain": [
       "(tensor([[0.1473],\n",
       "         [0.2857]]),\n",
       " tensor([[0.2533],\n",
       "         [0.1627]]))"
      ]
     },
     "execution_count": 70,
     "metadata": {},
     "output_type": "execute_result"
    }
   ],
   "source": [
    "training_set[10:12]"
   ]
  },
  {
   "cell_type": "markdown",
   "id": "7e271398-975f-4316-99fd-e4874bada203",
   "metadata": {},
   "source": [
    "### PyTorch DataLoader"
   ]
  },
  {
   "cell_type": "code",
   "execution_count": 71,
   "id": "4e5d4581-26c8-458e-b737-e6882a95e9f1",
   "metadata": {},
   "outputs": [],
   "source": [
    "batch_size = 120\n",
    "train_loader = torch.utils.data.DataLoader(training_set,\n",
    "                                           batch_size=batch_size,\n",
    "                                           shuffle=True)"
   ]
  },
  {
   "cell_type": "markdown",
   "id": "9d5498cd-2ad4-443f-b89f-47ad2e7b8bfd",
   "metadata": {},
   "source": [
    "The role of `batch_size` :"
   ]
  },
  {
   "cell_type": "code",
   "execution_count": 72,
   "id": "f3f17340-d272-4c21-9dbf-b8e42161efbe",
   "metadata": {},
   "outputs": [
    {
     "name": "stdout",
     "output_type": "stream",
     "text": [
      "Batch n.  1: input size=torch.Size([120, 1]), ouput size=torch.Size([120, 1])\n",
      "Batch n.  2: input size=torch.Size([120, 1]), ouput size=torch.Size([120, 1])\n",
      "Batch n.  3: input size=torch.Size([120, 1]), ouput size=torch.Size([120, 1])\n",
      "Batch n.  4: input size=torch.Size([120, 1]), ouput size=torch.Size([120, 1])\n",
      "Batch n.  5: input size=torch.Size([120, 1]), ouput size=torch.Size([120, 1])\n",
      "Batch n.  6: input size=torch.Size([120, 1]), ouput size=torch.Size([120, 1])\n",
      "Batch n.  7: input size=torch.Size([120, 1]), ouput size=torch.Size([120, 1])\n",
      "Batch n.  8: input size=torch.Size([120, 1]), ouput size=torch.Size([120, 1])\n",
      "Batch n.  9: input size=torch.Size([40, 1]), ouput size=torch.Size([40, 1])\n"
     ]
    }
   ],
   "source": [
    "for idx, batch in enumerate(train_loader):\n",
    "    print('Batch n. %2d: input size=%s, ouput size=%s' % (idx+1, batch[0].shape, batch[1].shape))"
   ]
  },
  {
   "cell_type": "code",
   "execution_count": 73,
   "id": "a2327560-942b-4b21-a4ee-71bdcb57cb15",
   "metadata": {},
   "outputs": [
    {
     "data": {
      "text/plain": [
       "960"
      ]
     },
     "execution_count": 73,
     "metadata": {},
     "output_type": "execute_result"
    }
   ],
   "source": [
    "8 * 120"
   ]
  },
  {
   "cell_type": "markdown",
   "id": "00901c6c-8677-409c-b448-efcacaed0aca",
   "metadata": {},
   "source": [
    "The role of `shuffle` :"
   ]
  },
  {
   "cell_type": "code",
   "execution_count": 74,
   "id": "db0d79c1-728e-40b8-ad6b-81003d00a456",
   "metadata": {},
   "outputs": [
    {
     "data": {
      "text/plain": [
       "array([[0.77822363, 0.50785387, 0.90397453],\n",
       "       [0.57919547, 0.85893655, 0.79196888],\n",
       "       [0.69039507, 0.16686431, 0.77113265],\n",
       "       [0.76869435, 0.47520098, 0.77885967],\n",
       "       [0.19030808, 0.07953271, 0.77110046],\n",
       "       [0.50609313, 0.57155353, 0.64508468],\n",
       "       [0.39638573, 0.38122278, 0.93320072],\n",
       "       [0.78140682, 0.97716999, 0.52662468],\n",
       "       [0.78318691, 0.65041089, 0.06389224],\n",
       "       [0.79181225, 0.69483775, 0.35446557],\n",
       "       [0.14733172, 0.43460661, 0.89970011],\n",
       "       [0.28567662, 0.46263513, 0.82701087],\n",
       "       [0.75596622, 0.76742268, 0.60470003],\n",
       "       [0.54310505, 0.45403311, 0.69322795],\n",
       "       [0.12172402, 0.79660684, 0.9584049 ],\n",
       "       [0.54544509, 0.31393814, 0.11755863],\n",
       "       [0.98304097, 0.88881159, 0.35924274],\n",
       "       [0.25332769, 0.65668136, 0.79736042],\n",
       "       [0.88945845, 0.79864806, 0.58358133],\n",
       "       [0.14826353, 0.63611352, 0.76399177],\n",
       "       [0.17019526, 0.78318691, 0.25427616],\n",
       "       [0.71274413, 0.70539272, 0.42450473],\n",
       "       [0.40984554, 0.85035944, 0.71683645],\n",
       "       [0.54619557, 0.31542426, 0.92905694],\n",
       "       [0.16161561, 0.32304457, 0.147568  ],\n",
       "       [0.61456088, 0.8957535 , 0.14488678],\n",
       "       [0.07010427, 0.86593258, 0.5646342 ],\n",
       "       [0.07666962, 0.43815649, 0.52984947],\n",
       "       [0.80972233, 0.65936595, 0.11954461],\n",
       "       [0.11496197, 0.48716557, 0.16119978],\n",
       "       [0.60400908, 0.14905739, 0.44617164],\n",
       "       [0.23016588, 0.93207628, 0.01508571],\n",
       "       [0.77209228, 0.28629559, 0.13316967],\n",
       "       [0.42311998, 0.3414852 , 0.14473255],\n",
       "       [0.34356464, 0.46582139, 0.55341077],\n",
       "       [0.89575349, 0.48566294, 0.95203501],\n",
       "       [0.57249904, 0.56251389, 0.09791011],\n",
       "       [0.20846424, 0.65148294, 0.08698993],\n",
       "       [0.41046924, 0.83109283, 0.97641045],\n",
       "       [0.6172158 , 0.97973222, 0.3421497 ],\n",
       "       [0.40642567, 0.46487108, 0.3023929 ],\n",
       "       [0.62101325, 0.53511637, 0.1119172 ],\n",
       "       [0.68960429, 0.42606595, 0.26332211],\n",
       "       [0.9608475 , 0.13316967, 0.68244851],\n",
       "       [0.10673685, 0.26316735, 0.61727858],\n",
       "       [0.42993325, 0.32914895, 0.29443553],\n",
       "       [0.55888015, 0.40642565, 0.93722051],\n",
       "       [0.27149343, 0.3858684 , 0.00439558],\n",
       "       [0.61651315, 0.20846425, 0.61651313],\n",
       "       [0.71056563, 0.52285659, 0.04406025],\n",
       "       [0.78294598, 0.82614487, 0.45893118],\n",
       "       [0.00367696, 0.68716609, 0.9753716 ],\n",
       "       [0.77457177, 0.06089501, 0.50593096],\n",
       "       [0.29344453, 0.40028995, 0.75304174],\n",
       "       [0.50572833, 0.88214016, 0.05841111],\n",
       "       [0.76386139, 0.33792707, 0.09566355],\n",
       "       [0.7952528 , 0.58358133, 0.43460661],\n",
       "       [0.93441439, 0.95898116, 0.59562337],\n",
       "       [0.09904492, 0.43110606, 0.24353924],\n",
       "       [0.5108245 , 0.75322747, 0.56243318],\n",
       "       [0.10514114, 0.8966198 , 0.38775814],\n",
       "       [0.45317681, 0.47239649, 0.90347707],\n",
       "       [0.45968909, 0.22948848, 0.53981096],\n",
       "       [0.02516756, 0.86885655, 0.58457464],\n",
       "       [0.57815429, 0.05841111, 0.75431865],\n",
       "       [0.98428743, 0.1944792 , 0.3387121 ],\n",
       "       [0.09545458, 0.24878973, 0.45657054],\n",
       "       [0.77912801, 0.14279746, 0.99524266],\n",
       "       [0.2858837 , 0.9584049 , 0.75322747],\n",
       "       [0.67848408, 0.88161147, 0.50701874],\n",
       "       [0.07528623, 0.67598224, 0.04501865],\n",
       "       [0.80753177, 0.29937235, 0.88115263],\n",
       "       [0.54962314, 0.6751008 , 0.53511637],\n",
       "       [0.86342256, 0.28243074, 0.21654403],\n",
       "       [0.12544065, 0.04308096, 0.34904253],\n",
       "       [0.61488967, 0.93367553, 0.49477845],\n",
       "       [0.97418261, 0.9830308 , 0.54962313],\n",
       "       [0.52662465, 0.64577496, 0.75331819],\n",
       "       [0.03228777, 0.1165901 , 0.71233344],\n",
       "       [0.81305428, 0.8286283 , 0.86437088],\n",
       "       [0.68716608, 0.5205785 , 0.06296594],\n",
       "       [0.16282215, 0.29443553, 0.62366772],\n",
       "       [0.93770406, 0.75264549, 0.09545458],\n",
       "       [0.47032097, 0.50593096, 0.75267702],\n",
       "       [0.79660685, 0.72171509, 0.14901607],\n",
       "       [0.96599951, 0.23551297, 0.90571111],\n",
       "       [0.4117879 , 0.97594154, 0.77457178],\n",
       "       [0.31856638, 0.0326217 , 0.32914895],\n",
       "       [0.56329185, 0.34270182, 0.17008081],\n",
       "       [0.86437091, 0.41046923, 0.64912796],\n",
       "       [0.92905697, 0.06296594, 0.7446239 ],\n",
       "       [0.07232788, 0.27848428, 0.57249904],\n",
       "       [0.54330904, 0.71593153, 0.31544864],\n",
       "       [0.85858214, 0.38268438, 0.54950869],\n",
       "       [0.67484964, 0.51151699, 0.42343089],\n",
       "       [0.57035378, 0.10313543, 0.36660266],\n",
       "       [0.61307209, 0.14901607, 0.01092907],\n",
       "       [0.2598173 , 0.57610911, 0.762142  ],\n",
       "       [0.04638839, 0.61488968, 0.75188911],\n",
       "       [0.14905739, 0.26332211, 0.6189484 ],\n",
       "       [0.79864804, 0.48770815, 0.42820886],\n",
       "       [0.39407704, 0.11774539, 0.26369137],\n",
       "       [0.50298081, 0.25261274, 0.33792707],\n",
       "       [0.69322796, 0.76399177, 0.65342218],\n",
       "       [0.65148294, 0.23269381, 0.6751008 ],\n",
       "       [0.43974669, 0.66782844, 0.99415189],\n",
       "       [0.22948847, 0.7319169 , 0.74795169],\n",
       "       [0.14488678, 0.67484963, 0.79836053],\n",
       "       [0.16664938, 0.73327345, 0.95687008],\n",
       "       [0.58597201, 0.24349381, 0.7242083 ],\n",
       "       [0.528689  , 0.06389224, 0.09639034],\n",
       "       [0.72579078, 0.53742003, 0.99121457],\n",
       "       [0.23474773, 0.43974671, 0.02329168],\n",
       "       [0.01835805, 0.48408511, 0.5330047 ],\n",
       "       [0.14279746, 0.62366772, 0.04143817],\n",
       "       [0.4978186 , 0.29746139, 0.50616038],\n",
       "       [0.38268437, 0.35140598, 0.77747262],\n",
       "       [0.89959219, 0.12200904, 0.48602629],\n",
       "       [0.75815647, 0.0105382 , 0.63006097],\n",
       "       [0.6977104 , 0.93441439, 0.27848428]])"
      ]
     },
     "execution_count": 74,
     "metadata": {},
     "output_type": "execute_result"
    }
   ],
   "source": [
    "first_batch = []\n",
    "\n",
    "for epoch in range(2):\n",
    "    for idx, batch in enumerate(train_loader):\n",
    "        if idx == 0:\n",
    "            first_batch.append(batch)\n",
    "            \n",
    "np.c_[X_train[:batch_size], first_batch[0][0].numpy(), first_batch[1][0].numpy()]"
   ]
  },
  {
   "cell_type": "markdown",
   "id": "27938579-a72e-4921-a109-bb4af321699b",
   "metadata": {},
   "source": [
    "# Models"
   ]
  },
  {
   "cell_type": "markdown",
   "id": "143e1517-124f-44b1-bd1d-821f2b705616",
   "metadata": {},
   "source": [
    "We implement a linear model $$x \\mapsto model(x):=A x + b$$ \n",
    "\n",
    "with $A\\in \\mathbb{R}^{input\\_dim\\times output\\_dim}$, $b\\in\\mathbb{R}^{output\\_dim}$."
   ]
  },
  {
   "cell_type": "code",
   "execution_count": 75,
   "id": "0bb231b4-b144-4bd5-b064-35de07acd2ae",
   "metadata": {},
   "outputs": [],
   "source": [
    "class LinearModel(nn.Module):\n",
    "    def __init__(self, input_dim, output_dim):\n",
    "        super(LinearModel, self).__init__()\n",
    "\n",
    "        self.input_dim = input_dim\n",
    "        self.output_dim = output_dim\n",
    "\n",
    "        self.linear = nn.Linear(self.input_dim, self.output_dim, bias=True)\n",
    "\n",
    "    def forward(self, x):\n",
    "        out = self.linear(x)\n",
    "        return out\n",
    "    \n",
    "    def reset(self):\n",
    "        self.linear.reset_parameters()"
   ]
  },
  {
   "cell_type": "code",
   "execution_count": 76,
   "id": "c3dc71c7-cbb5-487c-8123-1811995a3511",
   "metadata": {},
   "outputs": [],
   "source": [
    "model = LinearModel(input_dim, output_dim)"
   ]
  },
  {
   "cell_type": "markdown",
   "id": "6d95c1a5-33ce-45be-89f9-bbaf25b4200f",
   "metadata": {},
   "source": [
    "### Model inspection"
   ]
  },
  {
   "cell_type": "code",
   "execution_count": 77,
   "id": "419d49ce-888e-4a57-89a0-883b2683d7ff",
   "metadata": {},
   "outputs": [
    {
     "name": "stdout",
     "output_type": "stream",
     "text": [
      "LinearModel(\n",
      "  (linear): Linear(in_features=1, out_features=1, bias=True)\n",
      ")\n"
     ]
    }
   ],
   "source": [
    "print(model)"
   ]
  },
  {
   "cell_type": "code",
   "execution_count": 78,
   "id": "3741b9f0-da16-4fa3-a570-9de394ac8597",
   "metadata": {},
   "outputs": [
    {
     "data": {
      "text/plain": [
       "[Parameter containing:\n",
       " tensor([[0.1774]], requires_grad=True),\n",
       " Parameter containing:\n",
       " tensor([-0.2980], requires_grad=True)]"
      ]
     },
     "execution_count": 78,
     "metadata": {},
     "output_type": "execute_result"
    }
   ],
   "source": [
    "list(model.parameters())"
   ]
  },
  {
   "cell_type": "code",
   "execution_count": 79,
   "id": "3ca10064-e64e-4f27-a90d-4775d1b80bfe",
   "metadata": {},
   "outputs": [
    {
     "data": {
      "text/plain": [
       "Parameter containing:\n",
       "tensor([[0.1774]], requires_grad=True)"
      ]
     },
     "execution_count": 79,
     "metadata": {},
     "output_type": "execute_result"
    }
   ],
   "source": [
    "model.linear.weight"
   ]
  },
  {
   "cell_type": "code",
   "execution_count": 80,
   "id": "29f854e1-36d4-41d6-ad87-397f9c4f7e8b",
   "metadata": {},
   "outputs": [
    {
     "data": {
      "text/plain": [
       "Parameter containing:\n",
       "tensor([-0.2980], requires_grad=True)"
      ]
     },
     "execution_count": 80,
     "metadata": {},
     "output_type": "execute_result"
    }
   ],
   "source": [
    "model.linear.bias"
   ]
  },
  {
   "cell_type": "markdown",
   "id": "403170bb-4774-486d-8ac5-110b82ef42ee",
   "metadata": {},
   "source": [
    "### The forward method"
   ]
  },
  {
   "cell_type": "code",
   "execution_count": 81,
   "id": "cdd49f71-43a1-499b-bcb6-35ab6fc58701",
   "metadata": {},
   "outputs": [
    {
     "data": {
      "text/plain": [
       "tensor([[-0.2092],\n",
       "        [-0.2326],\n",
       "        [-0.0364],\n",
       "        [-0.3725],\n",
       "        [-0.4006]], grad_fn=<AddmmBackward>)"
      ]
     },
     "execution_count": 81,
     "metadata": {},
     "output_type": "execute_result"
    }
   ],
   "source": [
    "x = torch.randn(5, input_dim)\n",
    "model.forward(x)"
   ]
  },
  {
   "cell_type": "code",
   "execution_count": 82,
   "id": "2fd13f5d-f865-4009-ba16-d9c7c49112c1",
   "metadata": {},
   "outputs": [
    {
     "data": {
      "text/plain": [
       "[tensor([-0.2092], grad_fn=<AddBackward0>),\n",
       " tensor([-0.2326], grad_fn=<AddBackward0>),\n",
       " tensor([-0.0364], grad_fn=<AddBackward0>),\n",
       " tensor([-0.3725], grad_fn=<AddBackward0>),\n",
       " tensor([-0.4006], grad_fn=<AddBackward0>)]"
      ]
     },
     "execution_count": 82,
     "metadata": {},
     "output_type": "execute_result"
    }
   ],
   "source": [
    "[model.linear.weight @ xx + model.linear.bias for xx in x]"
   ]
  },
  {
   "cell_type": "code",
   "execution_count": 83,
   "id": "577e9826-2fae-441d-8aeb-048cbe94b717",
   "metadata": {},
   "outputs": [
    {
     "data": {
      "image/png": "[encoded data removed]",
      "text/plain": [
       "<Figure size 432x288 with 1 Axes>"
      ]
     },
     "metadata": {
      "needs_background": "light"
     },
     "output_type": "display_data"
    }
   ],
   "source": [
    "if input_dim == output_dim == 1:\n",
    "    fig = plt.figure()\n",
    "    fig.clf()\n",
    "    ax = fig.gca()\n",
    "    ax.plot(training_set.input_data, training_set.output_data, '.')\n",
    "    ax.plot(training_set.input_data, model.forward(training_set.input_data).detach().numpy(), '.')\n",
    "    ax.grid(True)\n",
    "    ax.set_xlabel('X_train')\n",
    "    ax.legend(['y_train', 'model(X_train)'])  "
   ]
  },
  {
   "cell_type": "markdown",
   "id": "472b659b-845f-48be-9c35-a51501805be3",
   "metadata": {},
   "source": [
    "# Losses"
   ]
  },
  {
   "cell_type": "markdown",
   "id": "31b32869-83c6-4149-8da6-cdee03899f96",
   "metadata": {},
   "source": [
    "### The MSE loss"
   ]
  },
  {
   "cell_type": "markdown",
   "id": "54f03e75-2d92-452c-89a5-02d56f8e0aaf",
   "metadata": {},
   "source": [
    "The MSE loss is\n",
    "$$\n",
    "L(y, y') = \\|y-y'\\|_2^2\n",
    "$$"
   ]
  },
  {
   "cell_type": "code",
   "execution_count": 85,
   "id": "74843af3-0dfe-4d0e-a396-aac91a301107",
   "metadata": {},
   "outputs": [],
   "source": [
    "loss_fun = nn.MSELoss(reduction='mean')"
   ]
  },
  {
   "cell_type": "code",
   "execution_count": 87,
   "id": "a11a4532-0d79-4c9f-820b-a0c1cfab1f35",
   "metadata": {},
   "outputs": [
    {
     "data": {
      "text/plain": [
       "tensor(2.)"
      ]
     },
     "execution_count": 87,
     "metadata": {},
     "output_type": "execute_result"
    }
   ],
   "source": [
    "x = torch.tensor(np.array([1, 2, 1]).astype('f'))\n",
    "z = torch.tensor(np.array([0, 0, 0]).astype('f'))\n",
    "loss_fun(x, z)"
   ]
  },
  {
   "cell_type": "markdown",
   "id": "5041e03a-db01-4813-bf06-af4512a23838",
   "metadata": {},
   "source": [
    "### Giving a score to the model (parameters) given the training set"
   ]
  },
  {
   "cell_type": "markdown",
   "id": "a0713846-e971-4032-85f1-ca45a7f673ac",
   "metadata": {},
   "source": [
    "The loss for one data pair $(x_i, y_i)$ is \n",
    "$$\n",
    "L(model(x_i), y_i)\n",
    "$$\n",
    "\n",
    "The cumulative (average) loss on the training set is \n",
    "$$\n",
    "L(X_{train}, y_{train}):=\\frac{1}{n_{train}} \\sum_{i=1}^{n_{train}} L(model(x_i), y_i)\n",
    "$$"
   ]
  },
  {
   "cell_type": "code",
   "execution_count": 91,
   "id": "5b746100-0db2-471b-b22a-5102db67d913",
   "metadata": {},
   "outputs": [
    {
     "data": {
      "image/png": "[encoded data removed]",
      "text/plain": [
       "<Figure size 720x576 with 2 Axes>"
      ]
     },
     "metadata": {
      "needs_background": "light"
     },
     "output_type": "display_data"
    }
   ],
   "source": [
    "if input_dim == output_dim == 1:\n",
    "\n",
    "    state_dict = model.state_dict()\n",
    "\n",
    "    ww, bb = np.meshgrid(np.linspace(-2, 2, 30), np.linspace(-2, 2, 30))\n",
    "\n",
    "    loss_values = 0 * ww\n",
    "    for i in range(ww.shape[0]):\n",
    "        for j in range(ww.shape[1]):\n",
    "            state_dict['linear.weight'] = torch.tensor([[ww[i, j]]])\n",
    "            state_dict['linear.bias'] = torch.tensor([bb[i, j]])\n",
    "            model.load_state_dict(state_dict)\n",
    "            loss_values[i, j] = loss_fun(model.forward(training_set.input_data),  training_set.output_data)\n",
    "\n",
    "    fig = plt.figure(figsize=(10, 8))\n",
    "    fig.clf()\n",
    "    ax = fig.gca()\n",
    "    levels = np.logspace(np.log(np.min(loss_values)), np.log(np.max(loss_values)), 20)\n",
    "    c=ax.contourf(ww, bb, loss_values, levels=levels, norm=colors.LogNorm())\n",
    "    plt.colorbar(c)\n",
    "    ax.plot(A[0], b, 'r*', markersize=10)\n",
    "    ax.set_ylabel('bias')\n",
    "    ax.set_xlabel('weight')\n",
    "    #ax.legend(['(A, b)'])\n",
    "    \n",
    "    ax.grid(True)    "
   ]
  },
  {
   "cell_type": "markdown",
   "id": "3c55a2c9-3074-4e0a-b986-e92f3bc66a92",
   "metadata": {},
   "source": [
    "# Optimization"
   ]
  },
  {
   "cell_type": "markdown",
   "id": "dfb85483-72fe-4b34-89b0-e4a903f5d870",
   "metadata": {},
   "source": [
    "Goal: minimize the loss given the data:\n",
    "$$\n",
    "\\min\\limits_{par \\in model} L(X_{train}, y_{train})\n",
    "=\\min\\limits_{par \\in model} \\frac{1}{n_{train}} \\sum_{i=1}^{n_{train}} L(x_i, model(x_i))\n",
    "$$\n",
    "\n",
    "In this case $par =\\{A, b\\}$."
   ]
  },
  {
   "cell_type": "markdown",
   "id": "0d5f9fba-9364-4012-987b-f3371d7c9288",
   "metadata": {},
   "source": [
    "Iterative gradient based optimization:\n",
    "\\begin{align*}\n",
    "par^{(0)} &= par_0\\\\\n",
    "par^{(k+1)} &=  par^{(k)} - \\eta^{(k)} \\nabla_{par} L(X_{train}, y_{train})\n",
    "\\end{align*}    \n",
    "with learning rate $\\eta^{(k)}$."
   ]
  },
  {
   "cell_type": "markdown",
   "id": "7b657ba6-cdc2-4c9f-9eb4-cfecd51e2466",
   "metadata": {},
   "source": [
    "### Gradients"
   ]
  },
  {
   "cell_type": "markdown",
   "id": "18590365-93d6-4722-9e04-60fef3cbc559",
   "metadata": {},
   "source": [
    "The model is \n",
    "$$\n",
    "model(x) = A x + b\n",
    "$$\n",
    "\n",
    "With $input\\_dim = output\\_dim = 1$ we have $A:=a\\in\\mathbb{R},\\ b\\in\\mathbb{R}$. \n",
    "\n",
    "For a data pair $(x, y)$ the loss is\n",
    "\\begin{align*}\n",
    "L(x, y) \n",
    "&= \\|model(x)-y\\|_2^2\\\\ \n",
    "&= (model(x)-y)^2\\\\\n",
    "&= (a x + b - y)^2\\\\\n",
    "&= a^2 x^2 + 2 a b x - 2 a xy + b^2 -2 b y + y^2.\n",
    "\\end{align*}\n",
    "\n",
    "We can compute\n",
    "\\begin{align*}\n",
    "\\nabla_a L(x, y) \n",
    "&= 2 a x^2 + 2 b x - 2 xy\n",
    "=2 x (a x + b - y)\\\\\n",
    "\\nabla_b L(x, y)\n",
    "&= 2 a x + 2 b - 2 y\n",
    "= 2 (ax + b - y).\n",
    "\\end{align*}\n"
   ]
  },
  {
   "cell_type": "code",
   "execution_count": 94,
   "id": "a40baf6b-ceff-4b81-ad3e-b7bc0223d31e",
   "metadata": {},
   "outputs": [],
   "source": [
    "x = torch.randn(1, input_dim)\n",
    "y = torch.randn(1, output_dim)\n",
    "\n",
    "model.zero_grad()\n",
    "loss = loss_fun(model.forward(x), y)\n",
    "loss.backward()"
   ]
  },
  {
   "cell_type": "code",
   "execution_count": 95,
   "id": "c71fdc1e-d4f9-444b-953b-53cde51f9eda",
   "metadata": {},
   "outputs": [
    {
     "name": "stdout",
     "output_type": "stream",
     "text": [
      "tensor([[6.8160]])\n",
      "tensor([[6.8160]], grad_fn=<MulBackward0>)\n",
      "tensor([8.3902])\n",
      "tensor([[8.3902]], grad_fn=<MulBackward0>)\n"
     ]
    }
   ],
   "source": [
    "if input_dim == output_dim == 1:\n",
    "    print(model.linear.weight.grad)\n",
    "    print(2 * x * (model.linear.weight * x + model.linear.bias - y))\n",
    "    \n",
    "    print(model.linear.bias.grad)\n",
    "    print(2 * (model.linear.weight * x + model.linear.bias - y))"
   ]
  },
  {
   "cell_type": "markdown",
   "id": "93291229-3d33-4ee7-8c28-b4ff9f092645",
   "metadata": {},
   "source": [
    "### Handmade optimization"
   ]
  },
  {
   "cell_type": "code",
   "execution_count": 96,
   "id": "10a34774-f0c4-46ab-bd11-23265fd4dbac",
   "metadata": {},
   "outputs": [],
   "source": [
    "if input_dim == output_dim == 1:\n",
    "\n",
    "    num_iter = 200\n",
    "    lr = 0.5 # 0.01\n",
    "\n",
    "    train_hist = {}\n",
    "    train_hist['weight'] = []\n",
    "    train_hist['bias'] = []\n",
    "\n",
    "    model.reset()\n",
    "    state_dict = model.state_dict()\n",
    "\n",
    "    for _ in range(num_iter):\n",
    "\n",
    "        model.zero_grad()\n",
    "        loss = loss_fun(model.forward(training_set.input_data), training_set.output_data)\n",
    "        loss.backward()\n",
    "\n",
    "        w = model.linear.weight.item()\n",
    "        b = model.linear.bias.item()\n",
    "\n",
    "        dw = model.linear.weight.grad.item()\n",
    "        db = model.linear.bias.grad.item()\n",
    "\n",
    "        state_dict['linear.weight'] += torch.tensor([-lr * dw])\n",
    "        state_dict['linear.bias'] += torch.tensor([-lr * db])\n",
    "        model.load_state_dict(state_dict)\n",
    "\n",
    "        train_hist['weight'].append(w)\n",
    "        train_hist['bias'].append(b)\n",
    "\n",
    "    for label in train_hist:\n",
    "        train_hist[label] = np.array(train_hist[label])"
   ]
  },
  {
   "cell_type": "code",
   "execution_count": 98,
   "id": "b8cf82d1-9f9c-4321-9c62-51c1a28e4f0c",
   "metadata": {},
   "outputs": [
    {
     "data": {
      "image/png": "[encoded data removed]",
      "text/plain": [
       "<Figure size 576x576 with 1 Axes>"
      ]
     },
     "metadata": {
      "needs_background": "light"
     },
     "output_type": "display_data"
    }
   ],
   "source": [
    "if input_dim == output_dim == 1:\n",
    "    fig = plt.figure(figsize=(8, 8))\n",
    "    fig.clf()\n",
    "    ax = fig.gca()\n",
    "    levels = np.logspace(np.log(np.min(loss_values)), np.log(np.max(loss_values)), 20)\n",
    "    ax.contourf(ww, bb, loss_values, levels=levels, norm=colors.LogNorm())\n",
    "    ax.set_xlabel('weight')\n",
    "    ax.set_ylabel('bias')\n",
    "    ax.grid(True)\n",
    "    ax.set_xlim(-2, 2) \n",
    "    ax.set_ylim(-2, 2) \n",
    "    \n",
    "    ax.plot(train_hist['weight'], train_hist['bias'], '.-b')\n",
    "    ax.plot(A[0], b, 'r*', markersize=10)\n",
    "\n",
    "    #ax.legend(['optim', '(A, b)'])"
   ]
  },
  {
   "cell_type": "markdown",
   "id": "61c0ad9a-7b20-4c0b-a681-27d54b5b047e",
   "metadata": {},
   "source": [
    "### Stochastic GD"
   ]
  },
  {
   "cell_type": "markdown",
   "id": "20467a31-449a-417c-a6b3-8b0262c20194",
   "metadata": {},
   "source": [
    "* Avoid loading the full training set\n",
    "* Avoid evaluating the model on the full training set"
   ]
  },
  {
   "cell_type": "markdown",
   "id": "9e1078be-7ce3-4520-8c02-de99993e6095",
   "metadata": {},
   "source": [
    "At every step, compute the loss on a batch of data $(X^{(k)}, y^{(k)})\\sim (X_{train}, y_{train})$: \n",
    "\n",
    "\\begin{align*}\n",
    "L(X^{(k)}, y^{(k)}) := \\sum_{(x, y) \\in (X^{(k)}, y^{(k)})} L(x, model(x)).\n",
    "\\end{align*}    \n",
    "\n",
    "and then update with this approximated gradient:\n",
    "\\begin{align*}\n",
    "par^{(k+1)} &=  par^{(k)} - \\eta^{(k)} \\nabla_{par} L(X^{(k)}, y^{(k)}). \n",
    "\\end{align*}    "
   ]
  },
  {
   "cell_type": "markdown",
   "id": "bb3aba24-e8df-4181-9c32-5232c6df6f75",
   "metadata": {},
   "source": [
    "### PyTorch optim"
   ]
  },
  {
   "cell_type": "code",
   "execution_count": 101,
   "id": "10224e2c-c830-4a70-94e3-0664ad1885dd",
   "metadata": {},
   "outputs": [],
   "source": [
    "lr = 0.1\n",
    "weight_decay = 5e-4\n",
    "optimizer = torch.optim.Adam(model.parameters(), lr=lr, weight_decay=weight_decay)"
   ]
  },
  {
   "cell_type": "code",
   "execution_count": 102,
   "id": "d95f6fe5-9436-4917-93ca-5562d5625b74",
   "metadata": {},
   "outputs": [],
   "source": [
    "n_epochs = 10"
   ]
  },
  {
   "cell_type": "code",
   "execution_count": 104,
   "id": "4a60bf19-64f3-4f19-bfa7-63c43e39c609",
   "metadata": {},
   "outputs": [
    {
     "name": "stdout",
     "output_type": "stream",
     "text": [
      "[Epoch    1/  10] [Batch    1/   9] Loss:  6.50e-01\n",
      "[Epoch    1/  10] [Batch    2/   9] Loss:  4.34e-01\n",
      "[Epoch    1/  10] [Batch    3/   9] Loss:  2.61e-01\n",
      "[Epoch    1/  10] [Batch    4/   9] Loss:  1.36e-01\n",
      "[Epoch    1/  10] [Batch    5/   9] Loss:  5.07e-02\n",
      "[Epoch    1/  10] [Batch    6/   9] Loss:  1.77e-02\n",
      "[Epoch    1/  10] [Batch    7/   9] Loss:  1.58e-02\n",
      "[Epoch    1/  10] [Batch    8/   9] Loss:  3.26e-02\n",
      "[Epoch    1/  10] [Batch    9/   9] Loss:  5.65e-02\n",
      "[Epoch    2/  10] [Batch    1/   9] Loss:  8.90e-02\n",
      "[Epoch    2/  10] [Batch    2/   9] Loss:  1.10e-01\n",
      "[Epoch    2/  10] [Batch    3/   9] Loss:  1.18e-01\n",
      "[Epoch    2/  10] [Batch    4/   9] Loss:  1.15e-01\n",
      "[Epoch    2/  10] [Batch    5/   9] Loss:  9.12e-02\n",
      "[Epoch    2/  10] [Batch    6/   9] Loss:  7.16e-02\n",
      "[Epoch    2/  10] [Batch    7/   9] Loss:  5.38e-02\n",
      "[Epoch    2/  10] [Batch    8/   9] Loss:  3.22e-02\n",
      "[Epoch    2/  10] [Batch    9/   9] Loss:  1.61e-02\n",
      "[Epoch    3/  10] [Batch    1/   9] Loss:  1.11e-02\n",
      "[Epoch    3/  10] [Batch    2/   9] Loss:  7.41e-03\n",
      "[Epoch    3/  10] [Batch    3/   9] Loss:  1.02e-02\n",
      "[Epoch    3/  10] [Batch    4/   9] Loss:  1.42e-02\n",
      "[Epoch    3/  10] [Batch    5/   9] Loss:  2.23e-02\n",
      "[Epoch    3/  10] [Batch    6/   9] Loss:  2.82e-02\n",
      "[Epoch    3/  10] [Batch    7/   9] Loss:  3.51e-02\n",
      "[Epoch    3/  10] [Batch    8/   9] Loss:  2.98e-02\n",
      "[Epoch    3/  10] [Batch    9/   9] Loss:  2.92e-02\n",
      "[Epoch    4/  10] [Batch    1/   9] Loss:  2.43e-02\n",
      "[Epoch    4/  10] [Batch    2/   9] Loss:  1.64e-02\n",
      "[Epoch    4/  10] [Batch    3/   9] Loss:  1.00e-02\n",
      "[Epoch    4/  10] [Batch    4/   9] Loss:  8.82e-03\n",
      "[Epoch    4/  10] [Batch    5/   9] Loss:  4.26e-03\n",
      "[Epoch    4/  10] [Batch    6/   9] Loss:  3.07e-03\n",
      "[Epoch    4/  10] [Batch    7/   9] Loss:  4.03e-03\n",
      "[Epoch    4/  10] [Batch    8/   9] Loss:  5.44e-03\n",
      "[Epoch    4/  10] [Batch    9/   9] Loss:  8.38e-03\n",
      "[Epoch    5/  10] [Batch    1/   9] Loss:  8.71e-03\n",
      "[Epoch    5/  10] [Batch    2/   9] Loss:  9.71e-03\n",
      "[Epoch    5/  10] [Batch    3/   9] Loss:  9.03e-03\n",
      "[Epoch    5/  10] [Batch    4/   9] Loss:  7.39e-03\n",
      "[Epoch    5/  10] [Batch    5/   9] Loss:  5.97e-03\n",
      "[Epoch    5/  10] [Batch    6/   9] Loss:  5.02e-03\n",
      "[Epoch    5/  10] [Batch    7/   9] Loss:  3.66e-03\n",
      "[Epoch    5/  10] [Batch    8/   9] Loss:  2.87e-03\n",
      "[Epoch    5/  10] [Batch    9/   9] Loss:  2.22e-03\n",
      "[Epoch    6/  10] [Batch    1/   9] Loss:  2.54e-03\n",
      "[Epoch    6/  10] [Batch    2/   9] Loss:  3.22e-03\n",
      "[Epoch    6/  10] [Batch    3/   9] Loss:  2.63e-03\n",
      "[Epoch    6/  10] [Batch    4/   9] Loss:  3.47e-03\n",
      "[Epoch    6/  10] [Batch    5/   9] Loss:  3.16e-03\n",
      "[Epoch    6/  10] [Batch    6/   9] Loss:  3.41e-03\n",
      "[Epoch    6/  10] [Batch    7/   9] Loss:  3.19e-03\n",
      "[Epoch    6/  10] [Batch    8/   9] Loss:  2.50e-03\n",
      "[Epoch    6/  10] [Batch    9/   9] Loss:  1.83e-03\n",
      "[Epoch    7/  10] [Batch    1/   9] Loss:  1.69e-03\n",
      "[Epoch    7/  10] [Batch    2/   9] Loss:  1.59e-03\n",
      "[Epoch    7/  10] [Batch    3/   9] Loss:  1.74e-03\n",
      "[Epoch    7/  10] [Batch    4/   9] Loss:  1.39e-03\n",
      "[Epoch    7/  10] [Batch    5/   9] Loss:  1.92e-03\n",
      "[Epoch    7/  10] [Batch    6/   9] Loss:  1.73e-03\n",
      "[Epoch    7/  10] [Batch    7/   9] Loss:  2.09e-03\n",
      "[Epoch    7/  10] [Batch    8/   9] Loss:  2.25e-03\n",
      "[Epoch    7/  10] [Batch    9/   9] Loss:  3.20e-03\n",
      "[Epoch    8/  10] [Batch    1/   9] Loss:  2.22e-03\n",
      "[Epoch    8/  10] [Batch    2/   9] Loss:  1.65e-03\n",
      "[Epoch    8/  10] [Batch    3/   9] Loss:  1.59e-03\n",
      "[Epoch    8/  10] [Batch    4/   9] Loss:  1.33e-03\n",
      "[Epoch    8/  10] [Batch    5/   9] Loss:  1.37e-03\n",
      "[Epoch    8/  10] [Batch    6/   9] Loss:  1.69e-03\n",
      "[Epoch    8/  10] [Batch    7/   9] Loss:  1.81e-03\n",
      "[Epoch    8/  10] [Batch    8/   9] Loss:  2.08e-03\n",
      "[Epoch    8/  10] [Batch    9/   9] Loss:  1.95e-03\n",
      "[Epoch    9/  10] [Batch    1/   9] Loss:  1.82e-03\n",
      "[Epoch    9/  10] [Batch    2/   9] Loss:  1.84e-03\n",
      "[Epoch    9/  10] [Batch    3/   9] Loss:  1.75e-03\n",
      "[Epoch    9/  10] [Batch    4/   9] Loss:  1.29e-03\n",
      "[Epoch    9/  10] [Batch    5/   9] Loss:  1.57e-03\n",
      "[Epoch    9/  10] [Batch    6/   9] Loss:  1.55e-03\n",
      "[Epoch    9/  10] [Batch    7/   9] Loss:  1.89e-03\n",
      "[Epoch    9/  10] [Batch    8/   9] Loss:  2.01e-03\n",
      "[Epoch    9/  10] [Batch    9/   9] Loss:  1.28e-03\n",
      "[Epoch   10/  10] [Batch    1/   9] Loss:  1.37e-03\n",
      "[Epoch   10/  10] [Batch    2/   9] Loss:  1.75e-03\n",
      "[Epoch   10/  10] [Batch    3/   9] Loss:  1.55e-03\n",
      "[Epoch   10/  10] [Batch    4/   9] Loss:  1.68e-03\n",
      "[Epoch   10/  10] [Batch    5/   9] Loss:  1.46e-03\n",
      "[Epoch   10/  10] [Batch    6/   9] Loss:  1.99e-03\n",
      "[Epoch   10/  10] [Batch    7/   9] Loss:  1.54e-03\n",
      "[Epoch   10/  10] [Batch    8/   9] Loss:  1.59e-03\n",
      "[Epoch   10/  10] [Batch    9/   9] Loss:  1.09e-03\n"
     ]
    },
    {
     "data": {
      "text/plain": [
       "LinearModel(\n",
       "  (linear): Linear(in_features=1, out_features=1, bias=True)\n",
       ")"
      ]
     },
     "execution_count": 104,
     "metadata": {},
     "output_type": "execute_result"
    }
   ],
   "source": [
    "train_hist = {}\n",
    "train_hist['loss'] = []\n",
    "\n",
    "if input_dim == output_dim == 1:\n",
    "    train_hist['weight'] = []\n",
    "    train_hist['bias'] = []\n",
    "\n",
    "# Initialize training\n",
    "model.reset()\n",
    "model.train()\n",
    "\n",
    "for epoch in range(n_epochs):\n",
    "    for idx, batch in enumerate(train_loader):\n",
    "        optimizer.zero_grad()\n",
    "        loss = loss_fun(model.forward(batch[0]),  batch[1])\n",
    "        loss.backward()\n",
    "        optimizer.step()\n",
    "\n",
    "        train_hist['loss'].append(loss.item())\n",
    "        if input_dim == output_dim == 1:\n",
    "            train_hist['weight'].append(model.linear.weight.item())\n",
    "            train_hist['bias'].append(model.linear.bias.item())\n",
    "        \n",
    "        print('[Epoch %4d/%4d] [Batch %4d/%4d] Loss: % 2.2e' % (epoch + 1, n_epochs, \n",
    "                                                                idx + 1, len(train_loader), \n",
    "                                                                loss.item()))\n",
    "        \n",
    "model.eval()"
   ]
  },
  {
   "cell_type": "code",
   "execution_count": 105,
   "id": "6b9bdcfa-c5af-47ce-a977-5a7b5a88c573",
   "metadata": {},
   "outputs": [],
   "source": [
    "if input_dim == output_dim == 1:\n",
    "    n_test = 500\n",
    "    X_test = np.random.rand(n_test, input_dim)\n",
    "    y_pred = []\n",
    "\n",
    "    state_dict = model.state_dict()\n",
    "\n",
    "    for idx in range(len(train_hist['weight'])):\n",
    "        state_dict['linear.weight'] = torch.tensor([[train_hist['weight'][idx]]])\n",
    "        state_dict['linear.bias'] = torch.tensor([train_hist['bias'][idx]])\n",
    "        model.load_state_dict(state_dict)\n",
    "\n",
    "        y_pred.append(model.forward(torch.tensor(X_test.astype('f'))).detach().numpy())  "
   ]
  },
  {
   "cell_type": "code",
   "execution_count": 107,
   "id": "d3f95e19-971c-4408-a492-be0d4272f47b",
   "metadata": {},
   "outputs": [
    {
     "data": {
      "image/png": "[encoded data removed]",
      "text/plain": [
       "<Figure size 1080x360 with 3 Axes>"
      ]
     },
     "metadata": {
      "needs_background": "light"
     },
     "output_type": "display_data"
    }
   ],
   "source": [
    "if input_dim == output_dim == 1:\n",
    "    fig = plt.figure(figsize=(15, 5))\n",
    "    fig.clf()\n",
    "    \n",
    "    ax = fig.add_subplot(1, 3, 1)\n",
    "    levels = np.logspace(np.log(np.min(loss_values)), np.log(np.max(loss_values)), 20)\n",
    "    ax.contourf(ww, bb, loss_values, levels=levels, norm=colors.LogNorm())\n",
    "    ax.plot(train_hist['weight'], train_hist['bias'], '.-b')\n",
    "    ax.plot(A[0], b, 'r*', markersize=10)\n",
    "    ax.set_xlabel('weight')\n",
    "    ax.set_ylabel('bias')\n",
    "    #ax.legend(['optim', '(A, b)'])\n",
    "    ax.grid(True)\n",
    "    ax.set_xlim(-2, 2) \n",
    "    ax.set_ylim(-2, 2) \n",
    "    \n",
    "    ax = fig.add_subplot(1, 3, 2)\n",
    "    ax.loglog(np.abs(train_hist['loss']))\n",
    "    ax.set_xlabel('Iter')\n",
    "    ax.set_ylabel('Loss')\n",
    "    ax.grid(True)\n",
    "    \n",
    "    ax = fig.add_subplot(1, 3, 3)\n",
    "    ax.plot(X_train, y_train, '.')\n",
    "    a=ax.plot(X_test, y_pred[0], '-', alpha=0.1)\n",
    "    for y in y_pred[1:]:\n",
    "        ax.plot(X_test, y, '-', alpha=0.1, color=a[0].get_color())\n",
    "    ax.plot(X_test, y_pred[-1], 'k')\n",
    "    ax.grid(True)   \n",
    "\n",
    "    fig.tight_layout()\n",
    "\n",
    "else:\n",
    "    fig = plt.figure()\n",
    "    fig.clf()\n",
    "    ax = fig.gca()\n",
    "    ax.loglog(np.abs(train_hist['loss']))\n",
    "    ax.set_xlabel('Iter')\n",
    "    ax.set_ylabel('Loss')\n",
    "    ax.grid(True)"
   ]
  },
  {
   "cell_type": "code",
   "execution_count": null,
   "id": "9d7c5b89-e48f-45da-8cca-e376b66d95c3",
   "metadata": {},
   "outputs": [],
   "source": []
  }
 ],
 "metadata": {
  "kernelspec": {
   "display_name": "Python 3 (ipykernel)",
   "language": "python",
   "name": "python3"
  },
  "language_info": {
   "codemirror_mode": {
    "name": "ipython",
    "version": 3
   },
   "file_extension": ".py",
   "mimetype": "text/x-python",
   "name": "python",
   "nbconvert_exporter": "python",
   "pygments_lexer": "ipython3",
   "version": "3.8.12"
  }
 },
 "nbformat": 4,
 "nbformat_minor": 5
}
